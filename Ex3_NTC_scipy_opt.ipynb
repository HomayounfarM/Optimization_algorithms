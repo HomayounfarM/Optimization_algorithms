{
  "nbformat": 4,
  "nbformat_minor": 0,
  "metadata": {
    "colab": {
      "name": "Ex3_NTC_scipy_opt.ipynb",
      "private_outputs": true,
      "provenance": [],
      "authorship_tag": "ABX9TyPwWuzrpfnnDHGJQ4Dg+Sya",
      "include_colab_link": true
    },
    "kernelspec": {
      "name": "python3",
      "display_name": "Python 3"
    },
    "language_info": {
      "name": "python"
    }
  },
  "cells": [
    {
      "cell_type": "markdown",
      "metadata": {
        "id": "view-in-github",
        "colab_type": "text"
      },
      "source": [
        "<a href=\"https://colab.research.google.com/github/HomayounfarM/Optimization_algorithms/blob/main/Ex3_NTC_scipy_opt.ipynb\" target=\"_parent\"><img src=\"https://colab.research.google.com/assets/colab-badge.svg\" alt=\"Open In Colab\"/></a>"
      ]
    },
    {
      "cell_type": "markdown",
      "source": [
        "## This is an example to minimize the cost function associated with a Logistic regression"
      ],
      "metadata": {
        "id": "Sy8M_l44fBZN"
      }
    },
    {
      "cell_type": "markdown",
      "source": [
        "![1.png](data:image/png;base64,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)"
      ],
      "metadata": {
        "id": "kT973VzAfGvd"
      }
    },
    {
      "cell_type": "code",
      "source": [
        "import ssl\n",
        "ssl._create_default_https_context = ssl._create_unverified_context\n",
        "import pandas as pd\n",
        "url = \"https://raw.githubusercontent.com/HomayounfarM/Optimization_algorithms/main/Data/ex2_data1.txt\"\n",
        "dataset = pd.read_csv(url, header = None)\n",
        "dataset.columns = ['exam_score_1', 'exam_score_2', 'label']\n",
        "dataset.describe().T"
      ],
      "metadata": {
        "id": "OFCHD3wxigT9"
      },
      "execution_count": null,
      "outputs": []
    },
    {
      "cell_type": "code",
      "source": [
        "# import libraries\n",
        "import numpy as np\n",
        "import pandas as pd\n",
        "import seaborn as sns\n",
        "import matplotlib.pyplot as plt\n",
        "# %matplotlib inline"
      ],
      "metadata": {
        "id": "n_slkWvPeXNd"
      },
      "execution_count": null,
      "outputs": []
    },
    {
      "cell_type": "code",
      "source": [
        "# definig sigmoid function\n",
        "def sigmoid(z):\n",
        "    z = np.array(z)\n",
        "    return 1/(1+np.exp(-z))\n",
        "\n",
        "# Plot of sigmoid function:\n",
        "z = np.linspace(-10,10,100)\n",
        "p = sigmoid(z)\n",
        "plt.figure()\n",
        "plt.plot(z,p)"
      ],
      "metadata": {
        "id": "zaddWIABh4d3"
      },
      "execution_count": null,
      "outputs": []
    },
    {
      "cell_type": "code",
      "source": [
        "# define x, y and initial theta\n",
        "m = len(dataset)\n",
        "X = np.hstack((np.ones((m,1)),dataset[['exam_score_1', 'exam_score_2']].values))\n",
        "y = np.array(dataset.label.values).reshape(-1,1)\n",
        "theta_ini = np.zeros((X.shape[1]))"
      ],
      "metadata": {
        "id": "C27ktNajh4cE"
      },
      "execution_count": null,
      "outputs": []
    },
    {
      "cell_type": "code",
      "source": [
        "# Cost Function and Gradient\n",
        "def cost_function(theta, X, y):\n",
        "    m = len(y)\n",
        "    theta = theta[:, np.newaxis]\n",
        "    h = sigmoid(X.dot(theta))\n",
        "    J = (1/m) * (-y.T.dot(np.log(h))- (1-y).T.dot(np.log(1-h)))\n",
        "    \n",
        "    diff_hy = h-y\n",
        "    grad = (1/m) * diff_hy.T.dot(X)\n",
        "    \n",
        "    return J, grad"
      ],
      "metadata": {
        "id": "j2-j6Qchh4ZV"
      },
      "execution_count": null,
      "outputs": []
    },
    {
      "cell_type": "code",
      "source": [
        "# Optimize the cost function using scipy.optimize.minimize\n",
        "import scipy.optimize as opt\n",
        "opt_results = opt.minimize(cost_function, theta_ini, args=(X, y), method='TNC',\n",
        "                           jac=True, options={'maxiter':400})\n",
        "opt_results['x']\n",
        "opt_results['fun']"
      ],
      "metadata": {
        "id": "-FwLbl72h4Wz"
      },
      "execution_count": null,
      "outputs": []
    },
    {
      "cell_type": "code",
      "source": [
        "# plot the results\n",
        "plt.figure(figsize=(7,5))\n",
        "ax = sns.scatterplot(x='exam_score_1', y='exam_score_2', hue='label', data=dataset, style='label', s=80)\n",
        "handles, labels = ax.get_legend_handles_labels()\n",
        "ax.legend(handles[1:], ['Not admitted', 'Admitted'])\n",
        "plt.title('Training data with decision boundary')\n",
        "\n",
        "plot_x = np.array(ax.get_xlim())\n",
        "plot_y = (-1/opt_results['x'][2]*(opt_results['x'][1]*plot_x + opt_results['x'][0]))\n",
        "plt.plot(plot_x, plot_y, '-', c=\"green\")\n",
        "plt.show()"
      ],
      "metadata": {
        "id": "Hk83vtfCh4UL"
      },
      "execution_count": null,
      "outputs": []
    },
    {
      "cell_type": "code",
      "source": [],
      "metadata": {
        "id": "4hu14KGUh4Ra"
      },
      "execution_count": null,
      "outputs": []
    },
    {
      "cell_type": "code",
      "source": [],
      "metadata": {
        "id": "I88vjr94h4GT"
      },
      "execution_count": null,
      "outputs": []
    },
    {
      "cell_type": "code",
      "source": [],
      "metadata": {
        "id": "EY8IKOGhh35L"
      },
      "execution_count": null,
      "outputs": []
    }
  ]
}