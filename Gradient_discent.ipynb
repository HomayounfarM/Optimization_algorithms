{
  "nbformat": 4,
  "nbformat_minor": 0,
  "metadata": {
    "colab": {
      "private_outputs": true,
      "provenance": [],
      "authorship_tag": "ABX9TyN151kN4saD7ras1cZvaS5I",
      "include_colab_link": true
    },
    "kernelspec": {
      "name": "python3",
      "display_name": "Python 3"
    },
    "language_info": {
      "name": "python"
    }
  },
  "cells": [
    {
      "cell_type": "markdown",
      "metadata": {
        "id": "view-in-github",
        "colab_type": "text"
      },
      "source": [
        "<a href=\"https://colab.research.google.com/github/HomayounfarM/Optimization_algorithms/blob/main/Gradient_discent.ipynb\" target=\"_parent\"><img src=\"https://colab.research.google.com/assets/colab-badge.svg\" alt=\"Open In Colab\"/></a>"
      ]
    },
    {
      "cell_type": "code",
      "execution_count": null,
      "metadata": {
        "id": "b2mRYqx_6que"
      },
      "outputs": [],
      "source": [
        "# Function to minimize\n",
        "import pandas as pd\n",
        "import numpy as np\n",
        "import matplotlib.pyplot as plt\n",
        "\n",
        "\n",
        "def f(x):\n",
        "    x = np.array(x)\n",
        "    y = (x**2 - 12*x + 20)\n",
        "    return y\n",
        "\n",
        "def f_prim(x):\n",
        "    x = np.array(x)\n",
        "    y = (2*x - 12)\n",
        "    return y\n",
        "\n",
        "a = 0.1                # Learning rate\n",
        "e = 0.0001\n",
        "x = np.linspace(-10,20)\n",
        "x1 = np.linspace(1, 5, num=50)\n",
        "\n",
        "y = f(x)\n",
        "\n",
        "\n",
        "\n",
        "w = np.zeros(len(x1))\n",
        "f_w = np.zeros(len(x1))\n",
        "w[0] = 0\n",
        "diff = 1\n",
        "i = 0\n",
        "\n",
        "\"\"\"\n",
        "## Using a pre-defined length w\n",
        "while diff > e:\n",
        "  w[i+1] = w[i] -  a*(2*w[i]-12)\n",
        "  f_w[i] = f(w[i+1])\n",
        "  diff = w[i+1]-w[i]\n",
        "  i+=1\n",
        "  print(diff)\n",
        "\"\"\"\n",
        "\n",
        "## Using a dynamic length w\n",
        "w = np.array([0])\n",
        "f_w = np.array([0])\n",
        "w[0] = 0\n",
        "diff = 1\n",
        "i = 0\n",
        "\n",
        "while diff > e:\n",
        "    w = np.append(w, w[i]-a*f_prim(w[i]))\n",
        "    f_w = np.append(f_w, f(w[i+1]))\n",
        "    diff = w[i+1]-w[i]\n",
        "    i+=1\n",
        "print('*'*50)\n",
        "print(e)\n",
        "print(diff)\n",
        "print(f_w)\n",
        "print(w)\n",
        "\n",
        "\n",
        "fig, (ax1, ax2) = plt.subplots(1, 2)\n",
        "ax1.plot(x,f(x))\n",
        "ax2.plot(np.linspace(1, len(f_w[1:]),len(f_w[1:])), f_w[1:])"
      ]
    }
  ]
}