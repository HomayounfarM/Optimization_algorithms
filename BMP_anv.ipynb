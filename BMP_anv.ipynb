{
  "nbformat": 4,
  "nbformat_minor": 0,
  "metadata": {
    "colab": {
      "private_outputs": true,
      "provenance": [],
      "collapsed_sections": [],
      "authorship_tag": "ABX9TyPXKmPlE4S/th9Hc2Ubiy4G",
      "include_colab_link": true
    },
    "kernelspec": {
      "name": "python3",
      "display_name": "Python 3"
    },
    "language_info": {
      "name": "python"
    }
  },
  "cells": [
    {
      "cell_type": "markdown",
      "metadata": {
        "id": "view-in-github",
        "colab_type": "text"
      },
      "source": [
        "<a href=\"https://colab.research.google.com/github/HomayounfarM/Optimization_algorithms/blob/main/BMP_anv.ipynb\" target=\"_parent\"><img src=\"https://colab.research.google.com/assets/colab-badge.svg\" alt=\"Open In Colab\"/></a>"
      ]
    },
    {
      "cell_type": "markdown",
      "source": [
        "##Complete Randomized Block Design (RBD)\n",
        "Blocking in experimental design is similar to stratification in sampling. The purpose of RBD is to control some of the extraneous sources of variation by removing such variation from the MSE term. This design tends to provide a better estimate of the true error variance and leads to a more powerful hypothesis test in terms of the ability to detect differences among treatment means.\n",
        "https://medium.com/budding-data-scientist/data-analytics-using-python-part-6-9e740a1dd681"
      ],
      "metadata": {
        "id": "4NuoBBIf9bzc"
      }
    },
    {
      "cell_type": "code",
      "source": [
        "!pip install -U -q PyDrive\n",
        " \n",
        "from pydrive.auth import GoogleAuth\n",
        "from pydrive.drive import GoogleDrive\n",
        "from google.colab import auth\n",
        "from oauth2client.client import GoogleCredentials\n",
        "import numpy as np\n",
        "import pandas as pd\n",
        "import scipy\n",
        "import statsmodels.api as sm\n",
        "from statsmodels.formula.api import ols\n",
        " \n",
        "# Authenticate and create the PyDrive client.\n",
        "auth.authenticate_user()\n",
        "gauth = GoogleAuth()\n",
        "gauth.credentials = GoogleCredentials.get_application_default()\n",
        "drive = GoogleDrive(gauth)"
      ],
      "metadata": {
        "id": "0tp9C8NPwrYI"
      },
      "execution_count": null,
      "outputs": []
    },
    {
      "cell_type": "code",
      "source": [
        "link = 'https://drive.google.com/file/d/1u1BC37L6uwjuYy4J36RCaK8Er1ETXLKI/view?usp=sharing'\n",
        "link1 = 'https://drive.google.com/file/d/13o2yHwUdbjgU-sv9ieB190ntQGmhi8B6/view?usp=sharing'\n",
        " \n",
        "import pandas as pd\n",
        " \n",
        "# to get the id part of the file\n",
        "id = link.split(\"/\")[-2]\n",
        " \n",
        "downloaded = drive.CreateFile({'id':id})\n",
        "downloaded.GetContentFile('data.csv') \n",
        " \n",
        "df = pd.read_csv('data.csv')\n",
        "df"
      ],
      "metadata": {
        "id": "AA_AP4RH5Ius"
      },
      "execution_count": null,
      "outputs": []
    },
    {
      "cell_type": "code",
      "source": [
        "model = ols('TY~C(Block)+C(Rate)', data = df).fit()\n",
        "anova_table = sm.stats.anova_lm(model, type=1)\n",
        "anova_table"
      ],
      "metadata": {
        "id": "E4RhW6aw6I4c"
      },
      "execution_count": null,
      "outputs": []
    }
  ]
}